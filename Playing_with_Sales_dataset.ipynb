{
  "nbformat": 4,
  "nbformat_minor": 0,
  "metadata": {
    "colab": {
      "name": "Playing with Sales dataset.ipynb",
      "provenance": [],
      "authorship_tag": "ABX9TyN1oSrBw3mxOR8rHDrCeND1",
      "include_colab_link": true
    },
    "kernelspec": {
      "name": "python3",
      "display_name": "Python 3"
    },
    "language_info": {
      "name": "python"
    }
  },
  "cells": [
    {
      "cell_type": "markdown",
      "metadata": {
        "id": "view-in-github",
        "colab_type": "text"
      },
      "source": [
        "<a href=\"https://colab.research.google.com/github/r3writes/KeithGalli-Pandas-Data-Science-Tasks/blob/master/Playing_with_Sales_dataset.ipynb\" target=\"_parent\"><img src=\"https://colab.research.google.com/assets/colab-badge.svg\" alt=\"Open In Colab\"/></a>"
      ]
    },
    {
      "cell_type": "markdown",
      "source": [
        "Import Libraries"
      ],
      "metadata": {
        "id": "fT10HHHWJ6IJ"
      }
    },
    {
      "cell_type": "code",
      "source": [
        "import os\n",
        "import pandas as pd\n",
        "import matplotlib.pyplot as plt"
      ],
      "metadata": {
        "id": "QvjuCWRbJ4_L"
      },
      "execution_count": null,
      "outputs": []
    },
    {
      "cell_type": "markdown",
      "source": [
        "Merge monthly sales data into one annual sales dataset"
      ],
      "metadata": {
        "id": "R-Bsk5KBKLOc"
      }
    },
    {
      "cell_type": "code",
      "source": [
        "#1. Get file names\n",
        "#-----------------\n",
        "path = '/content/Sales_Data/' \n",
        "#### comment above path in GitHub and instead use the below path for data files\n",
        "#path = './Sales_Data'\n",
        "files = [file for file in os.listdir(path) if not file.startswith('.')]\n",
        "\n",
        "\n",
        "#2. Create an empty master dataset to merge all monthly data into\n",
        "#----------------------------------------------------------------\n",
        "data_2019 = pd.DataFrame()\n",
        "\n",
        "\n",
        "#3. Read each file into the master dataset\n",
        "#-----------------------------------------\n",
        "for file in files:\n",
        "\n",
        "#### remove the below if condition in prod code. \n",
        "#### This is specific to my Colab folder. \n",
        "#  if file == 'sample_data':\n",
        "#    break\n",
        "\n",
        "  curr_data = pd.read_csv(path+file)\n",
        "  data_2019 = pd.concat([data_2019, curr_data])\n",
        "\n",
        "#4. Save data as a csv file.\n",
        "\n",
        "data_2019.to_csv('alldata.csv', index = False)\n"
      ],
      "metadata": {
        "id": "1Gh5-dLJKSg8"
      },
      "execution_count": 26,
      "outputs": []
    },
    {
      "cell_type": "markdown",
      "source": [
        "Read the master dataset"
      ],
      "metadata": {
        "id": "UyPK4DTqS8Sr"
      }
    },
    {
      "cell_type": "code",
      "source": [
        "mdata = pd.read_csv('alldata.csv')\n",
        "mdata.count()"
      ],
      "metadata": {
        "colab": {
          "base_uri": "https://localhost:8080/"
        },
        "id": "GiFVk-2gTAFp",
        "outputId": "8546a5f7-e30c-4a60-9097-9fcdc902c750"
      },
      "execution_count": 108,
      "outputs": [
        {
          "output_type": "execute_result",
          "data": {
            "text/plain": [
              "Order ID            372610\n",
              "Product             372610\n",
              "Quantity Ordered    372610\n",
              "Price Each          372610\n",
              "Order Date          372610\n",
              "Purchase Address    372610\n",
              "dtype: int64"
            ]
          },
          "metadata": {},
          "execution_count": 108
        }
      ]
    },
    {
      "cell_type": "markdown",
      "source": [
        "Cleaning Data"
      ],
      "metadata": {
        "id": "Kc69wJ-1Wd5K"
      }
    },
    {
      "cell_type": "code",
      "source": [
        "#Remove duplicate headers present when we merged the monthly datasets\n",
        "mdata = mdata[mdata['Order Date'] != 'Order Date']\n",
        "\n",
        "#Remove missing values\n",
        "mdata.dropna(inplace = True)\n",
        "mdata.head(3)\n",
        "mdata.dtypes\n",
        "#mdata['Order Date'] = pd.to_datetime(mdata['Order Date'])"
      ],
      "metadata": {
        "colab": {
          "base_uri": "https://localhost:8080/"
        },
        "id": "LpJ-VpmgWf0Q",
        "outputId": "96087ea6-e544-41f5-fa97-26af90b9232c"
      },
      "execution_count": 109,
      "outputs": [
        {
          "output_type": "execute_result",
          "data": {
            "text/plain": [
              "Order ID            object\n",
              "Product             object\n",
              "Quantity Ordered    object\n",
              "Price Each          object\n",
              "Order Date          object\n",
              "Purchase Address    object\n",
              "dtype: object"
            ]
          },
          "metadata": {},
          "execution_count": 109
        }
      ]
    },
    {
      "cell_type": "markdown",
      "source": [
        "Convert columns from string to correct data types"
      ],
      "metadata": {
        "id": "rKRmZyavYyr3"
      }
    },
    {
      "cell_type": "code",
      "source": [
        "#Convert columns into correct correct datatype\n",
        "mdata['Order Date'] = pd.to_datetime(mdata['Order Date'])\n",
        "mdata['Quantity Ordered'] = pd.to_numeric(mdata['Quantity Ordered'])\n",
        "mdata['Price Each'] = pd.to_numeric(mdata['Price Each'])\n",
        "mdata.dtypes\n",
        "\n"
      ],
      "metadata": {
        "colab": {
          "base_uri": "https://localhost:8080/"
        },
        "id": "o1lngN8XXoOz",
        "outputId": "c5ab138c-9709-4ed8-c6f6-602c3bb64262"
      },
      "execution_count": 110,
      "outputs": [
        {
          "output_type": "execute_result",
          "data": {
            "text/plain": [
              "Order ID                    object\n",
              "Product                     object\n",
              "Quantity Ordered             int64\n",
              "Price Each                 float64\n",
              "Order Date          datetime64[ns]\n",
              "Purchase Address            object\n",
              "dtype: object"
            ]
          },
          "metadata": {},
          "execution_count": 110
        }
      ]
    },
    {
      "cell_type": "code",
      "source": [
        "mdata.head(3)"
      ],
      "metadata": {
        "colab": {
          "base_uri": "https://localhost:8080/",
          "height": 143
        },
        "id": "n-qx0K9tsfm_",
        "outputId": "b605bbf4-0dbc-48f2-83a7-36ca83869015"
      },
      "execution_count": 111,
      "outputs": [
        {
          "output_type": "execute_result",
          "data": {
            "text/plain": [
              "  Order ID               Product  Quantity Ordered  Price Each  \\\n",
              "0   295665    Macbook Pro Laptop                 1     1700.00   \n",
              "1   295666    LG Washing Machine                 1      600.00   \n",
              "2   295667  USB-C Charging Cable                 1       11.95   \n",
              "\n",
              "           Order Date                        Purchase Address  \n",
              "0 2019-12-30 00:01:00  136 Church St, New York City, NY 10001  \n",
              "1 2019-12-29 07:03:00     562 2nd St, New York City, NY 10001  \n",
              "2 2019-12-12 18:21:00    277 Main St, New York City, NY 10001  "
            ],
            "text/html": [
              "\n",
              "  <div id=\"df-bccb84f7-182e-4342-969c-26deff3ae4d7\">\n",
              "    <div class=\"colab-df-container\">\n",
              "      <div>\n",
              "<style scoped>\n",
              "    .dataframe tbody tr th:only-of-type {\n",
              "        vertical-align: middle;\n",
              "    }\n",
              "\n",
              "    .dataframe tbody tr th {\n",
              "        vertical-align: top;\n",
              "    }\n",
              "\n",
              "    .dataframe thead th {\n",
              "        text-align: right;\n",
              "    }\n",
              "</style>\n",
              "<table border=\"1\" class=\"dataframe\">\n",
              "  <thead>\n",
              "    <tr style=\"text-align: right;\">\n",
              "      <th></th>\n",
              "      <th>Order ID</th>\n",
              "      <th>Product</th>\n",
              "      <th>Quantity Ordered</th>\n",
              "      <th>Price Each</th>\n",
              "      <th>Order Date</th>\n",
              "      <th>Purchase Address</th>\n",
              "    </tr>\n",
              "  </thead>\n",
              "  <tbody>\n",
              "    <tr>\n",
              "      <th>0</th>\n",
              "      <td>295665</td>\n",
              "      <td>Macbook Pro Laptop</td>\n",
              "      <td>1</td>\n",
              "      <td>1700.00</td>\n",
              "      <td>2019-12-30 00:01:00</td>\n",
              "      <td>136 Church St, New York City, NY 10001</td>\n",
              "    </tr>\n",
              "    <tr>\n",
              "      <th>1</th>\n",
              "      <td>295666</td>\n",
              "      <td>LG Washing Machine</td>\n",
              "      <td>1</td>\n",
              "      <td>600.00</td>\n",
              "      <td>2019-12-29 07:03:00</td>\n",
              "      <td>562 2nd St, New York City, NY 10001</td>\n",
              "    </tr>\n",
              "    <tr>\n",
              "      <th>2</th>\n",
              "      <td>295667</td>\n",
              "      <td>USB-C Charging Cable</td>\n",
              "      <td>1</td>\n",
              "      <td>11.95</td>\n",
              "      <td>2019-12-12 18:21:00</td>\n",
              "      <td>277 Main St, New York City, NY 10001</td>\n",
              "    </tr>\n",
              "  </tbody>\n",
              "</table>\n",
              "</div>\n",
              "      <button class=\"colab-df-convert\" onclick=\"convertToInteractive('df-bccb84f7-182e-4342-969c-26deff3ae4d7')\"\n",
              "              title=\"Convert this dataframe to an interactive table.\"\n",
              "              style=\"display:none;\">\n",
              "        \n",
              "  <svg xmlns=\"http://www.w3.org/2000/svg\" height=\"24px\"viewBox=\"0 0 24 24\"\n",
              "       width=\"24px\">\n",
              "    <path d=\"M0 0h24v24H0V0z\" fill=\"none\"/>\n",
              "    <path d=\"M18.56 5.44l.94 2.06.94-2.06 2.06-.94-2.06-.94-.94-2.06-.94 2.06-2.06.94zm-11 1L8.5 8.5l.94-2.06 2.06-.94-2.06-.94L8.5 2.5l-.94 2.06-2.06.94zm10 10l.94 2.06.94-2.06 2.06-.94-2.06-.94-.94-2.06-.94 2.06-2.06.94z\"/><path d=\"M17.41 7.96l-1.37-1.37c-.4-.4-.92-.59-1.43-.59-.52 0-1.04.2-1.43.59L10.3 9.45l-7.72 7.72c-.78.78-.78 2.05 0 2.83L4 21.41c.39.39.9.59 1.41.59.51 0 1.02-.2 1.41-.59l7.78-7.78 2.81-2.81c.8-.78.8-2.07 0-2.86zM5.41 20L4 18.59l7.72-7.72 1.47 1.35L5.41 20z\"/>\n",
              "  </svg>\n",
              "      </button>\n",
              "      \n",
              "  <style>\n",
              "    .colab-df-container {\n",
              "      display:flex;\n",
              "      flex-wrap:wrap;\n",
              "      gap: 12px;\n",
              "    }\n",
              "\n",
              "    .colab-df-convert {\n",
              "      background-color: #E8F0FE;\n",
              "      border: none;\n",
              "      border-radius: 50%;\n",
              "      cursor: pointer;\n",
              "      display: none;\n",
              "      fill: #1967D2;\n",
              "      height: 32px;\n",
              "      padding: 0 0 0 0;\n",
              "      width: 32px;\n",
              "    }\n",
              "\n",
              "    .colab-df-convert:hover {\n",
              "      background-color: #E2EBFA;\n",
              "      box-shadow: 0px 1px 2px rgba(60, 64, 67, 0.3), 0px 1px 3px 1px rgba(60, 64, 67, 0.15);\n",
              "      fill: #174EA6;\n",
              "    }\n",
              "\n",
              "    [theme=dark] .colab-df-convert {\n",
              "      background-color: #3B4455;\n",
              "      fill: #D2E3FC;\n",
              "    }\n",
              "\n",
              "    [theme=dark] .colab-df-convert:hover {\n",
              "      background-color: #434B5C;\n",
              "      box-shadow: 0px 1px 3px 1px rgba(0, 0, 0, 0.15);\n",
              "      filter: drop-shadow(0px 1px 2px rgba(0, 0, 0, 0.3));\n",
              "      fill: #FFFFFF;\n",
              "    }\n",
              "  </style>\n",
              "\n",
              "      <script>\n",
              "        const buttonEl =\n",
              "          document.querySelector('#df-bccb84f7-182e-4342-969c-26deff3ae4d7 button.colab-df-convert');\n",
              "        buttonEl.style.display =\n",
              "          google.colab.kernel.accessAllowed ? 'block' : 'none';\n",
              "\n",
              "        async function convertToInteractive(key) {\n",
              "          const element = document.querySelector('#df-bccb84f7-182e-4342-969c-26deff3ae4d7');\n",
              "          const dataTable =\n",
              "            await google.colab.kernel.invokeFunction('convertToInteractive',\n",
              "                                                     [key], {});\n",
              "          if (!dataTable) return;\n",
              "\n",
              "          const docLinkHtml = 'Like what you see? Visit the ' +\n",
              "            '<a target=\"_blank\" href=https://colab.research.google.com/notebooks/data_table.ipynb>data table notebook</a>'\n",
              "            + ' to learn more about interactive tables.';\n",
              "          element.innerHTML = '';\n",
              "          dataTable['output_type'] = 'display_data';\n",
              "          await google.colab.output.renderOutput(dataTable, element);\n",
              "          const docLink = document.createElement('div');\n",
              "          docLink.innerHTML = docLinkHtml;\n",
              "          element.appendChild(docLink);\n",
              "        }\n",
              "      </script>\n",
              "    </div>\n",
              "  </div>\n",
              "  "
            ]
          },
          "metadata": {},
          "execution_count": 111
        }
      ]
    },
    {
      "cell_type": "markdown",
      "source": [
        "Add useful columns"
      ],
      "metadata": {
        "id": "vzXoggxgadCM"
      }
    },
    {
      "cell_type": "code",
      "source": [
        "#Extract month from 'Order Date' into a new 'Month' column\n",
        "mdata['Date'] = pd.DatetimeIndex(mdata['Order Date']).date\n",
        "mdata['Month'] = pd.DatetimeIndex(mdata['Order Date']).month\n",
        "\n",
        "#Calculate Sales per order\n",
        "mdata['Sales'] = mdata['Quantity Ordered'] * mdata['Price Each']\n",
        "\n",
        "mdata.head()"
      ],
      "metadata": {
        "colab": {
          "base_uri": "https://localhost:8080/",
          "height": 354
        },
        "id": "RGDaAC2lafRp",
        "outputId": "575c2aea-eb67-4169-a145-368b1805391d"
      },
      "execution_count": 114,
      "outputs": [
        {
          "output_type": "execute_result",
          "data": {
            "text/plain": [
              "  Order ID               Product  Quantity Ordered  Price Each  \\\n",
              "0   295665    Macbook Pro Laptop                 1     1700.00   \n",
              "1   295666    LG Washing Machine                 1      600.00   \n",
              "2   295667  USB-C Charging Cable                 1       11.95   \n",
              "3   295668      27in FHD Monitor                 1      149.99   \n",
              "4   295669  USB-C Charging Cable                 1       11.95   \n",
              "\n",
              "           Order Date                        Purchase Address        Date  \\\n",
              "0 2019-12-30 00:01:00  136 Church St, New York City, NY 10001  2019-12-30   \n",
              "1 2019-12-29 07:03:00     562 2nd St, New York City, NY 10001  2019-12-29   \n",
              "2 2019-12-12 18:21:00    277 Main St, New York City, NY 10001  2019-12-12   \n",
              "3 2019-12-22 15:13:00     410 6th St, San Francisco, CA 94016  2019-12-22   \n",
              "4 2019-12-18 12:38:00           43 Hill St, Atlanta, GA 30301  2019-12-18   \n",
              "\n",
              "     Sales  Month  \n",
              "0  1700.00     12  \n",
              "1   600.00     12  \n",
              "2    11.95     12  \n",
              "3   149.99     12  \n",
              "4    11.95     12  "
            ],
            "text/html": [
              "\n",
              "  <div id=\"df-5440cc26-ff9e-4bc4-bec1-85f6b46d203f\">\n",
              "    <div class=\"colab-df-container\">\n",
              "      <div>\n",
              "<style scoped>\n",
              "    .dataframe tbody tr th:only-of-type {\n",
              "        vertical-align: middle;\n",
              "    }\n",
              "\n",
              "    .dataframe tbody tr th {\n",
              "        vertical-align: top;\n",
              "    }\n",
              "\n",
              "    .dataframe thead th {\n",
              "        text-align: right;\n",
              "    }\n",
              "</style>\n",
              "<table border=\"1\" class=\"dataframe\">\n",
              "  <thead>\n",
              "    <tr style=\"text-align: right;\">\n",
              "      <th></th>\n",
              "      <th>Order ID</th>\n",
              "      <th>Product</th>\n",
              "      <th>Quantity Ordered</th>\n",
              "      <th>Price Each</th>\n",
              "      <th>Order Date</th>\n",
              "      <th>Purchase Address</th>\n",
              "      <th>Date</th>\n",
              "      <th>Sales</th>\n",
              "      <th>Month</th>\n",
              "    </tr>\n",
              "  </thead>\n",
              "  <tbody>\n",
              "    <tr>\n",
              "      <th>0</th>\n",
              "      <td>295665</td>\n",
              "      <td>Macbook Pro Laptop</td>\n",
              "      <td>1</td>\n",
              "      <td>1700.00</td>\n",
              "      <td>2019-12-30 00:01:00</td>\n",
              "      <td>136 Church St, New York City, NY 10001</td>\n",
              "      <td>2019-12-30</td>\n",
              "      <td>1700.00</td>\n",
              "      <td>12</td>\n",
              "    </tr>\n",
              "    <tr>\n",
              "      <th>1</th>\n",
              "      <td>295666</td>\n",
              "      <td>LG Washing Machine</td>\n",
              "      <td>1</td>\n",
              "      <td>600.00</td>\n",
              "      <td>2019-12-29 07:03:00</td>\n",
              "      <td>562 2nd St, New York City, NY 10001</td>\n",
              "      <td>2019-12-29</td>\n",
              "      <td>600.00</td>\n",
              "      <td>12</td>\n",
              "    </tr>\n",
              "    <tr>\n",
              "      <th>2</th>\n",
              "      <td>295667</td>\n",
              "      <td>USB-C Charging Cable</td>\n",
              "      <td>1</td>\n",
              "      <td>11.95</td>\n",
              "      <td>2019-12-12 18:21:00</td>\n",
              "      <td>277 Main St, New York City, NY 10001</td>\n",
              "      <td>2019-12-12</td>\n",
              "      <td>11.95</td>\n",
              "      <td>12</td>\n",
              "    </tr>\n",
              "    <tr>\n",
              "      <th>3</th>\n",
              "      <td>295668</td>\n",
              "      <td>27in FHD Monitor</td>\n",
              "      <td>1</td>\n",
              "      <td>149.99</td>\n",
              "      <td>2019-12-22 15:13:00</td>\n",
              "      <td>410 6th St, San Francisco, CA 94016</td>\n",
              "      <td>2019-12-22</td>\n",
              "      <td>149.99</td>\n",
              "      <td>12</td>\n",
              "    </tr>\n",
              "    <tr>\n",
              "      <th>4</th>\n",
              "      <td>295669</td>\n",
              "      <td>USB-C Charging Cable</td>\n",
              "      <td>1</td>\n",
              "      <td>11.95</td>\n",
              "      <td>2019-12-18 12:38:00</td>\n",
              "      <td>43 Hill St, Atlanta, GA 30301</td>\n",
              "      <td>2019-12-18</td>\n",
              "      <td>11.95</td>\n",
              "      <td>12</td>\n",
              "    </tr>\n",
              "  </tbody>\n",
              "</table>\n",
              "</div>\n",
              "      <button class=\"colab-df-convert\" onclick=\"convertToInteractive('df-5440cc26-ff9e-4bc4-bec1-85f6b46d203f')\"\n",
              "              title=\"Convert this dataframe to an interactive table.\"\n",
              "              style=\"display:none;\">\n",
              "        \n",
              "  <svg xmlns=\"http://www.w3.org/2000/svg\" height=\"24px\"viewBox=\"0 0 24 24\"\n",
              "       width=\"24px\">\n",
              "    <path d=\"M0 0h24v24H0V0z\" fill=\"none\"/>\n",
              "    <path d=\"M18.56 5.44l.94 2.06.94-2.06 2.06-.94-2.06-.94-.94-2.06-.94 2.06-2.06.94zm-11 1L8.5 8.5l.94-2.06 2.06-.94-2.06-.94L8.5 2.5l-.94 2.06-2.06.94zm10 10l.94 2.06.94-2.06 2.06-.94-2.06-.94-.94-2.06-.94 2.06-2.06.94z\"/><path d=\"M17.41 7.96l-1.37-1.37c-.4-.4-.92-.59-1.43-.59-.52 0-1.04.2-1.43.59L10.3 9.45l-7.72 7.72c-.78.78-.78 2.05 0 2.83L4 21.41c.39.39.9.59 1.41.59.51 0 1.02-.2 1.41-.59l7.78-7.78 2.81-2.81c.8-.78.8-2.07 0-2.86zM5.41 20L4 18.59l7.72-7.72 1.47 1.35L5.41 20z\"/>\n",
              "  </svg>\n",
              "      </button>\n",
              "      \n",
              "  <style>\n",
              "    .colab-df-container {\n",
              "      display:flex;\n",
              "      flex-wrap:wrap;\n",
              "      gap: 12px;\n",
              "    }\n",
              "\n",
              "    .colab-df-convert {\n",
              "      background-color: #E8F0FE;\n",
              "      border: none;\n",
              "      border-radius: 50%;\n",
              "      cursor: pointer;\n",
              "      display: none;\n",
              "      fill: #1967D2;\n",
              "      height: 32px;\n",
              "      padding: 0 0 0 0;\n",
              "      width: 32px;\n",
              "    }\n",
              "\n",
              "    .colab-df-convert:hover {\n",
              "      background-color: #E2EBFA;\n",
              "      box-shadow: 0px 1px 2px rgba(60, 64, 67, 0.3), 0px 1px 3px 1px rgba(60, 64, 67, 0.15);\n",
              "      fill: #174EA6;\n",
              "    }\n",
              "\n",
              "    [theme=dark] .colab-df-convert {\n",
              "      background-color: #3B4455;\n",
              "      fill: #D2E3FC;\n",
              "    }\n",
              "\n",
              "    [theme=dark] .colab-df-convert:hover {\n",
              "      background-color: #434B5C;\n",
              "      box-shadow: 0px 1px 3px 1px rgba(0, 0, 0, 0.15);\n",
              "      filter: drop-shadow(0px 1px 2px rgba(0, 0, 0, 0.3));\n",
              "      fill: #FFFFFF;\n",
              "    }\n",
              "  </style>\n",
              "\n",
              "      <script>\n",
              "        const buttonEl =\n",
              "          document.querySelector('#df-5440cc26-ff9e-4bc4-bec1-85f6b46d203f button.colab-df-convert');\n",
              "        buttonEl.style.display =\n",
              "          google.colab.kernel.accessAllowed ? 'block' : 'none';\n",
              "\n",
              "        async function convertToInteractive(key) {\n",
              "          const element = document.querySelector('#df-5440cc26-ff9e-4bc4-bec1-85f6b46d203f');\n",
              "          const dataTable =\n",
              "            await google.colab.kernel.invokeFunction('convertToInteractive',\n",
              "                                                     [key], {});\n",
              "          if (!dataTable) return;\n",
              "\n",
              "          const docLinkHtml = 'Like what you see? Visit the ' +\n",
              "            '<a target=\"_blank\" href=https://colab.research.google.com/notebooks/data_table.ipynb>data table notebook</a>'\n",
              "            + ' to learn more about interactive tables.';\n",
              "          element.innerHTML = '';\n",
              "          dataTable['output_type'] = 'display_data';\n",
              "          await google.colab.output.renderOutput(dataTable, element);\n",
              "          const docLink = document.createElement('div');\n",
              "          docLink.innerHTML = docLinkHtml;\n",
              "          element.appendChild(docLink);\n",
              "        }\n",
              "      </script>\n",
              "    </div>\n",
              "  </div>\n",
              "  "
            ]
          },
          "metadata": {},
          "execution_count": 114
        }
      ]
    },
    {
      "cell_type": "code",
      "source": [
        "#Extract city from 'Purchase Address' column\n",
        "def getcity(address):\n",
        "  return address.split(',')[1].strip(\" \")\n",
        "\n",
        "def getstate(address):\n",
        "  return address.split(',')[2].split(' ')[1]\n",
        "\n",
        "mdata['City'] = mdata['Purchase Address'].apply(lambda x: f\"{getcity(x)} ({getstate(x)})\")\n",
        "mdata.head()"
      ],
      "metadata": {
        "colab": {
          "base_uri": "https://localhost:8080/",
          "height": 354
        },
        "id": "iG1GOEghdSrr",
        "outputId": "e4385457-a4e2-45c7-944d-8addc88d65d3"
      },
      "execution_count": 135,
      "outputs": [
        {
          "output_type": "execute_result",
          "data": {
            "text/plain": [
              "  Order ID               Product  Quantity Ordered  Price Each  \\\n",
              "0   295665    Macbook Pro Laptop                 1     1700.00   \n",
              "1   295666    LG Washing Machine                 1      600.00   \n",
              "2   295667  USB-C Charging Cable                 1       11.95   \n",
              "3   295668      27in FHD Monitor                 1      149.99   \n",
              "4   295669  USB-C Charging Cable                 1       11.95   \n",
              "\n",
              "           Order Date                        Purchase Address        Date  \\\n",
              "0 2019-12-30 00:01:00  136 Church St, New York City, NY 10001  2019-12-30   \n",
              "1 2019-12-29 07:03:00     562 2nd St, New York City, NY 10001  2019-12-29   \n",
              "2 2019-12-12 18:21:00    277 Main St, New York City, NY 10001  2019-12-12   \n",
              "3 2019-12-22 15:13:00     410 6th St, San Francisco, CA 94016  2019-12-22   \n",
              "4 2019-12-18 12:38:00           43 Hill St, Atlanta, GA 30301  2019-12-18   \n",
              "\n",
              "     Sales  Month                City  \n",
              "0  1700.00     12  New York City (NY)  \n",
              "1   600.00     12  New York City (NY)  \n",
              "2    11.95     12  New York City (NY)  \n",
              "3   149.99     12  San Francisco (CA)  \n",
              "4    11.95     12        Atlanta (GA)  "
            ],
            "text/html": [
              "\n",
              "  <div id=\"df-418e1743-d474-4fe2-b8e5-1e53b0874f15\">\n",
              "    <div class=\"colab-df-container\">\n",
              "      <div>\n",
              "<style scoped>\n",
              "    .dataframe tbody tr th:only-of-type {\n",
              "        vertical-align: middle;\n",
              "    }\n",
              "\n",
              "    .dataframe tbody tr th {\n",
              "        vertical-align: top;\n",
              "    }\n",
              "\n",
              "    .dataframe thead th {\n",
              "        text-align: right;\n",
              "    }\n",
              "</style>\n",
              "<table border=\"1\" class=\"dataframe\">\n",
              "  <thead>\n",
              "    <tr style=\"text-align: right;\">\n",
              "      <th></th>\n",
              "      <th>Order ID</th>\n",
              "      <th>Product</th>\n",
              "      <th>Quantity Ordered</th>\n",
              "      <th>Price Each</th>\n",
              "      <th>Order Date</th>\n",
              "      <th>Purchase Address</th>\n",
              "      <th>Date</th>\n",
              "      <th>Sales</th>\n",
              "      <th>Month</th>\n",
              "      <th>City</th>\n",
              "    </tr>\n",
              "  </thead>\n",
              "  <tbody>\n",
              "    <tr>\n",
              "      <th>0</th>\n",
              "      <td>295665</td>\n",
              "      <td>Macbook Pro Laptop</td>\n",
              "      <td>1</td>\n",
              "      <td>1700.00</td>\n",
              "      <td>2019-12-30 00:01:00</td>\n",
              "      <td>136 Church St, New York City, NY 10001</td>\n",
              "      <td>2019-12-30</td>\n",
              "      <td>1700.00</td>\n",
              "      <td>12</td>\n",
              "      <td>New York City (NY)</td>\n",
              "    </tr>\n",
              "    <tr>\n",
              "      <th>1</th>\n",
              "      <td>295666</td>\n",
              "      <td>LG Washing Machine</td>\n",
              "      <td>1</td>\n",
              "      <td>600.00</td>\n",
              "      <td>2019-12-29 07:03:00</td>\n",
              "      <td>562 2nd St, New York City, NY 10001</td>\n",
              "      <td>2019-12-29</td>\n",
              "      <td>600.00</td>\n",
              "      <td>12</td>\n",
              "      <td>New York City (NY)</td>\n",
              "    </tr>\n",
              "    <tr>\n",
              "      <th>2</th>\n",
              "      <td>295667</td>\n",
              "      <td>USB-C Charging Cable</td>\n",
              "      <td>1</td>\n",
              "      <td>11.95</td>\n",
              "      <td>2019-12-12 18:21:00</td>\n",
              "      <td>277 Main St, New York City, NY 10001</td>\n",
              "      <td>2019-12-12</td>\n",
              "      <td>11.95</td>\n",
              "      <td>12</td>\n",
              "      <td>New York City (NY)</td>\n",
              "    </tr>\n",
              "    <tr>\n",
              "      <th>3</th>\n",
              "      <td>295668</td>\n",
              "      <td>27in FHD Monitor</td>\n",
              "      <td>1</td>\n",
              "      <td>149.99</td>\n",
              "      <td>2019-12-22 15:13:00</td>\n",
              "      <td>410 6th St, San Francisco, CA 94016</td>\n",
              "      <td>2019-12-22</td>\n",
              "      <td>149.99</td>\n",
              "      <td>12</td>\n",
              "      <td>San Francisco (CA)</td>\n",
              "    </tr>\n",
              "    <tr>\n",
              "      <th>4</th>\n",
              "      <td>295669</td>\n",
              "      <td>USB-C Charging Cable</td>\n",
              "      <td>1</td>\n",
              "      <td>11.95</td>\n",
              "      <td>2019-12-18 12:38:00</td>\n",
              "      <td>43 Hill St, Atlanta, GA 30301</td>\n",
              "      <td>2019-12-18</td>\n",
              "      <td>11.95</td>\n",
              "      <td>12</td>\n",
              "      <td>Atlanta (GA)</td>\n",
              "    </tr>\n",
              "  </tbody>\n",
              "</table>\n",
              "</div>\n",
              "      <button class=\"colab-df-convert\" onclick=\"convertToInteractive('df-418e1743-d474-4fe2-b8e5-1e53b0874f15')\"\n",
              "              title=\"Convert this dataframe to an interactive table.\"\n",
              "              style=\"display:none;\">\n",
              "        \n",
              "  <svg xmlns=\"http://www.w3.org/2000/svg\" height=\"24px\"viewBox=\"0 0 24 24\"\n",
              "       width=\"24px\">\n",
              "    <path d=\"M0 0h24v24H0V0z\" fill=\"none\"/>\n",
              "    <path d=\"M18.56 5.44l.94 2.06.94-2.06 2.06-.94-2.06-.94-.94-2.06-.94 2.06-2.06.94zm-11 1L8.5 8.5l.94-2.06 2.06-.94-2.06-.94L8.5 2.5l-.94 2.06-2.06.94zm10 10l.94 2.06.94-2.06 2.06-.94-2.06-.94-.94-2.06-.94 2.06-2.06.94z\"/><path d=\"M17.41 7.96l-1.37-1.37c-.4-.4-.92-.59-1.43-.59-.52 0-1.04.2-1.43.59L10.3 9.45l-7.72 7.72c-.78.78-.78 2.05 0 2.83L4 21.41c.39.39.9.59 1.41.59.51 0 1.02-.2 1.41-.59l7.78-7.78 2.81-2.81c.8-.78.8-2.07 0-2.86zM5.41 20L4 18.59l7.72-7.72 1.47 1.35L5.41 20z\"/>\n",
              "  </svg>\n",
              "      </button>\n",
              "      \n",
              "  <style>\n",
              "    .colab-df-container {\n",
              "      display:flex;\n",
              "      flex-wrap:wrap;\n",
              "      gap: 12px;\n",
              "    }\n",
              "\n",
              "    .colab-df-convert {\n",
              "      background-color: #E8F0FE;\n",
              "      border: none;\n",
              "      border-radius: 50%;\n",
              "      cursor: pointer;\n",
              "      display: none;\n",
              "      fill: #1967D2;\n",
              "      height: 32px;\n",
              "      padding: 0 0 0 0;\n",
              "      width: 32px;\n",
              "    }\n",
              "\n",
              "    .colab-df-convert:hover {\n",
              "      background-color: #E2EBFA;\n",
              "      box-shadow: 0px 1px 2px rgba(60, 64, 67, 0.3), 0px 1px 3px 1px rgba(60, 64, 67, 0.15);\n",
              "      fill: #174EA6;\n",
              "    }\n",
              "\n",
              "    [theme=dark] .colab-df-convert {\n",
              "      background-color: #3B4455;\n",
              "      fill: #D2E3FC;\n",
              "    }\n",
              "\n",
              "    [theme=dark] .colab-df-convert:hover {\n",
              "      background-color: #434B5C;\n",
              "      box-shadow: 0px 1px 3px 1px rgba(0, 0, 0, 0.15);\n",
              "      filter: drop-shadow(0px 1px 2px rgba(0, 0, 0, 0.3));\n",
              "      fill: #FFFFFF;\n",
              "    }\n",
              "  </style>\n",
              "\n",
              "      <script>\n",
              "        const buttonEl =\n",
              "          document.querySelector('#df-418e1743-d474-4fe2-b8e5-1e53b0874f15 button.colab-df-convert');\n",
              "        buttonEl.style.display =\n",
              "          google.colab.kernel.accessAllowed ? 'block' : 'none';\n",
              "\n",
              "        async function convertToInteractive(key) {\n",
              "          const element = document.querySelector('#df-418e1743-d474-4fe2-b8e5-1e53b0874f15');\n",
              "          const dataTable =\n",
              "            await google.colab.kernel.invokeFunction('convertToInteractive',\n",
              "                                                     [key], {});\n",
              "          if (!dataTable) return;\n",
              "\n",
              "          const docLinkHtml = 'Like what you see? Visit the ' +\n",
              "            '<a target=\"_blank\" href=https://colab.research.google.com/notebooks/data_table.ipynb>data table notebook</a>'\n",
              "            + ' to learn more about interactive tables.';\n",
              "          element.innerHTML = '';\n",
              "          dataTable['output_type'] = 'display_data';\n",
              "          await google.colab.output.renderOutput(dataTable, element);\n",
              "          const docLink = document.createElement('div');\n",
              "          docLink.innerHTML = docLinkHtml;\n",
              "          element.appendChild(docLink);\n",
              "        }\n",
              "      </script>\n",
              "    </div>\n",
              "  </div>\n",
              "  "
            ]
          },
          "metadata": {},
          "execution_count": 135
        }
      ]
    },
    {
      "cell_type": "markdown",
      "source": [
        "# Q1. What was the best month for sales? How much was earned that month?"
      ],
      "metadata": {
        "id": "1vpwdpWRcqC9"
      }
    },
    {
      "cell_type": "code",
      "source": [
        "#Aggregate data by month and sort by decending order of sales\n",
        "mdata.groupby('Month')['Sales'].sum()\n",
        "highest = mdata.groupby('Month')['Sales'].sum().max()"
      ],
      "metadata": {
        "id": "HfUnn-Zzc1b4"
      },
      "execution_count": 76,
      "outputs": []
    },
    {
      "cell_type": "code",
      "source": [
        "#Plot monthly sales on a line graph\n",
        "months = range(1,13)\n",
        "plt.bar(months, mdata.groupby('Month')['Sales'].sum())\n",
        "plt.title('Monthly Sales - All regions', size=20)\n",
        "plt.xticks(months)\n",
        "plt.xlabel('Month Number')\n",
        "plt.ylabel('Sales in USD')\n",
        "plt.show()\n",
        "\n",
        "print(\"Month with highest sales is December.\")\n",
        "print(\"Maximum sales was \",highest, \"USD.\")"
      ],
      "metadata": {
        "colab": {
          "base_uri": "https://localhost:8080/",
          "height": 335
        },
        "id": "Mh7N2pG1fvtm",
        "outputId": "7566be5b-31ab-4729-b84e-94c182f1aee2"
      },
      "execution_count": 86,
      "outputs": [
        {
          "output_type": "display_data",
          "data": {
            "text/plain": [
              "<Figure size 432x288 with 1 Axes>"
            ],
            "image/png": "[encoded data removed]"
          },
          "metadata": {
            "needs_background": "light"
          }
        },
        {
          "output_type": "stream",
          "name": "stdout",
          "text": [
            "Month with highest sales is December.\n",
            "Maximum sales was  9226886.68 USD.\n"
          ]
        }
      ]
    },
    {
      "cell_type": "markdown",
      "source": [
        "# Q2. What city sold the most product? "
      ],
      "metadata": {
        "id": "u1I57-m_i09i"
      }
    },
    {
      "cell_type": "code",
      "source": [
        "#Aggregate data by city and sort by decending order of sales\n",
        "mdata.groupby('City')['Sales'].sum()\n",
        "maxi = mdata.groupby('City')['Sales'].sum().max()\n"
      ],
      "metadata": {
        "id": "Hd7QqED4i7rJ"
      },
      "execution_count": 95,
      "outputs": []
    },
    {
      "cell_type": "code",
      "source": [
        "keys = [city for city, df in mdata.groupby(['City']) ]\n",
        "plt.bar(keys, mdata.groupby('City')['Sales'].sum())\n",
        "plt.title('Sales by City', size = 20)\n",
        "plt.xticks(keys, rotation='vertical', size =8)\n",
        "plt.xlabel('City Name')\n",
        "plt.ylabel('Sales in USD')\n",
        "plt.show()\n",
        "\n",
        "print(\"City with the highest sales is San Francisco (CA).\")\n",
        "print(\"Maximum sales was \",maxi, \"USD.\")"
      ],
      "metadata": {
        "colab": {
          "base_uri": "https://localhost:8080/",
          "height": 400
        },
        "id": "eWFUXLNAjRxF",
        "outputId": "856ee0d0-08dc-4754-a708-cbf98a9becce"
      },
      "execution_count": 96,
      "outputs": [
        {
          "output_type": "display_data",
          "data": {
            "text/plain": [
              "<Figure size 432x288 with 1 Axes>"
            ],
            "image/png": "[encoded data removed]"
          },
          "metadata": {
            "needs_background": "light"
          }
        },
        {
          "output_type": "stream",
          "name": "stdout",
          "text": [
            "City with the highest sales is San Francisco (CA).\n",
            "Maximum sales was  16524407.82 USD.\n"
          ]
        }
      ]
    },
    {
      "cell_type": "markdown",
      "source": [
        "# Q3. What time should we display advertisements to maximize likelihood of customer's buying product?"
      ],
      "metadata": {
        "id": "J_V0QaRblwxj"
      }
    },
    {
      "cell_type": "code",
      "source": [
        "#Extract hours and minutes as separate columns from the 'Order Date' column\n",
        "mdata['Hour'] = pd.DatetimeIndex(mdata['Order Date']).hour\n",
        "mdata['Minutes'] = pd.DatetimeIndex(mdata['Order Date']).minute\n",
        "\n",
        "mdata.groupby('Hour')['Product'].count()"
      ],
      "metadata": {
        "colab": {
          "base_uri": "https://localhost:8080/"
        },
        "id": "bkDZ7rvql3c1",
        "outputId": "8d6c0046-4873-4689-b2b7-387f0772168b"
      },
      "execution_count": 101,
      "outputs": [
        {
          "output_type": "execute_result",
          "data": {
            "text/plain": [
              "Hour\n",
              "0      7820\n",
              "1      4700\n",
              "2      2486\n",
              "3      1662\n",
              "4      1708\n",
              "5      2642\n",
              "6      4964\n",
              "7      8022\n",
              "8     12512\n",
              "9     17496\n",
              "10    21888\n",
              "11    24822\n",
              "12    25174\n",
              "13    24258\n",
              "14    21968\n",
              "15    20350\n",
              "16    20768\n",
              "17    21798\n",
              "18    24560\n",
              "19    25810\n",
              "20    24456\n",
              "21    21842\n",
              "22    17644\n",
              "23    12550\n",
              "Name: Product, dtype: int64"
            ]
          },
          "metadata": {},
          "execution_count": 101
        }
      ]
    },
    {
      "cell_type": "code",
      "source": [
        "hrs = range(0,24)\n",
        "plt.plot(hrs,mdata.groupby('Hour')['Product'].count())\n",
        "plt.xlabel(\"Time in a day (Hour)\")\n",
        "plt.ylabel(\"Number of products sold\")\n",
        "plt.xticks(hrs)\n",
        "plt.grid()\n",
        "plt.show()\n",
        "\n",
        "print(\"It is best to advertise between 11AM & 12 noon and between 6PM to 8PM to maximize customer purchase likelihood.\")"
      ],
      "metadata": {
        "colab": {
          "base_uri": "https://localhost:8080/",
          "height": 296
        },
        "id": "CN8sUipMm6fb",
        "outputId": "77258c77-2b82-4b90-cfa3-3af818cd09d0"
      },
      "execution_count": 106,
      "outputs": [
        {
          "output_type": "display_data",
          "data": {
            "text/plain": [
              "<Figure size 432x288 with 1 Axes>"
            ],
            "image/png": "[encoded data removed]"
          },
          "metadata": {
            "needs_background": "light"
          }
        },
        {
          "output_type": "stream",
          "name": "stdout",
          "text": [
            "It is best to advertise between 11AM & 12 noon and between 6PM to 8PM to maximize customer purchase likelihood.\n"
          ]
        }
      ]
    },
    {
      "cell_type": "markdown",
      "source": [
        "# What is the least popular product? Where is it bought most?"
      ],
      "metadata": {
        "id": "-ZZrjEf6yRV6"
      }
    },
    {
      "cell_type": "code",
      "source": [
        "mdata.groupby('Product')['Quantity Ordered'].count().sort_values()"
      ],
      "metadata": {
        "colab": {
          "base_uri": "https://localhost:8080/"
        },
        "id": "Tw1jVfwLylSq",
        "outputId": "754fa1b6-e518-46fb-b502-724079f8cd7d"
      },
      "execution_count": 167,
      "outputs": [
        {
          "output_type": "execute_result",
          "data": {
            "text/plain": [
              "Product\n",
              "LG Dryer                       1292\n",
              "LG Washing Machine             1332\n",
              "Vareebadd Phone                4130\n",
              "20in Monitor                   8202\n",
              "ThinkPad Laptop                8256\n",
              "Macbook Pro Laptop             9448\n",
              "Flatscreen TV                  9600\n",
              "Google Phone                  11050\n",
              "34in Ultrawide Monitor        12362\n",
              "27in 4K Gaming Monitor        12460\n",
              "iPhone                        13684\n",
              "27in FHD Monitor              15014\n",
              "Bose SoundSport Headphones    26650\n",
              "Apple Airpods Headphones      31098\n",
              "Wired Headphones              37764\n",
              "AA Batteries (4-pack)         41154\n",
              "AAA Batteries (4-pack)        41282\n",
              "Lightning Charging Cable      43316\n",
              "USB-C Charging Cable          43806\n",
              "Name: Quantity Ordered, dtype: int64"
            ]
          },
          "metadata": {},
          "execution_count": 167
        }
      ]
    },
    {
      "cell_type": "code",
      "source": [
        "prod = [p for p, df in mdata.groupby(['Product'])]\n",
        "plt.bar(prod, mdata.groupby('Product')['Quantity Ordered'].count())\n",
        "plt.title('Sales Volume by Product',size=20)\n",
        "plt.xticks(prod, rotation='vertical',size=8)\n",
        "plt.xlabel('Product Name')\n",
        "plt.ylabel('Sales in units')\n",
        "plt.show()\n",
        "\n",
        "print('The least sold product is LG dryer.')"
      ],
      "metadata": {
        "colab": {
          "base_uri": "https://localhost:8080/",
          "height": 429
        },
        "id": "Y17V_J0gzmM4",
        "outputId": "8e85e0b6-7d3b-4a57-f420-15eaf0cdbaf3"
      },
      "execution_count": 168,
      "outputs": [
        {
          "output_type": "display_data",
          "data": {
            "text/plain": [
              "<Figure size 432x288 with 1 Axes>"
            ],
            "image/png": "[encoded data removed]"
          },
          "metadata": {
            "needs_background": "light"
          }
        },
        {
          "output_type": "stream",
          "name": "stdout",
          "text": [
            "The least sold product is AAA Battery.\n"
          ]
        }
      ]
    },
    {
      "cell_type": "code",
      "source": [
        "mdata.groupby(['Product','City'])['Quantity Ordered'].sum()"
      ],
      "metadata": {
        "colab": {
          "base_uri": "https://localhost:8080/"
        },
        "id": "tn1ohQrb6ejI",
        "outputId": "974dfc9d-fc83-41b7-acd1-dc1949f0f885"
      },
      "execution_count": 166,
      "outputs": [
        {
          "output_type": "execute_result",
          "data": {
            "text/plain": [
              "Product       City              \n",
              "20in Monitor  Atlanta (GA)           684\n",
              "              Austin (TX)            460\n",
              "              Boston (MA)            788\n",
              "              Dallas (TX)            686\n",
              "              Los Angeles (CA)      1316\n",
              "                                    ... \n",
              "iPhone        New York City (NY)    1762\n",
              "              Portland (ME)          158\n",
              "              Portland (OR)          742\n",
              "              San Francisco (CA)    3322\n",
              "              Seattle (WA)          1092\n",
              "Name: Quantity Ordered, Length: 190, dtype: int64"
            ]
          },
          "metadata": {},
          "execution_count": 166
        }
      ]
    },
    {
      "cell_type": "markdown",
      "source": [
        "# Q4. What products are most often bought together?"
      ],
      "metadata": {
        "id": "ZUKzUtVmowG9"
      }
    },
    {
      "cell_type": "code",
      "source": [
        ""
      ],
      "metadata": {
        "id": "VtDavIeRo8Ih"
      },
      "execution_count": null,
      "outputs": []
    }
  ]
}